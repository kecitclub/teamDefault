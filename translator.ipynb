{
  "cells": [
    {
      "cell_type": "code",
      "execution_count": 11,
      "metadata": {
        "colab": {
          "base_uri": "https://localhost:8080/"
        },
        "id": "jpKsH20FtE6q",
        "outputId": "ec356f40-dce1-40f5-ed2c-eaef57658f92"
      },
      "outputs": [
        {
          "name": "stdout",
          "output_type": "stream",
          "text": [
            "Collecting googletrans\n",
            "  Downloading googletrans-4.0.2-py3-none-any.whl.metadata (10 kB)\n",
            "Requirement already satisfied: httpx>=0.27.2 in /usr/local/lib/python3.10/dist-packages (from httpx[http2]>=0.27.2->googletrans) (0.28.1)\n",
            "Requirement already satisfied: anyio in /usr/local/lib/python3.10/dist-packages (from httpx>=0.27.2->httpx[http2]>=0.27.2->googletrans) (3.7.1)\n",
            "Requirement already satisfied: certifi in /usr/local/lib/python3.10/dist-packages (from httpx>=0.27.2->httpx[http2]>=0.27.2->googletrans) (2024.12.14)\n",
            "Requirement already satisfied: httpcore==1.* in /usr/local/lib/python3.10/dist-packages (from httpx>=0.27.2->httpx[http2]>=0.27.2->googletrans) (1.0.7)\n",
            "Requirement already satisfied: idna in /usr/local/lib/python3.10/dist-packages (from httpx>=0.27.2->httpx[http2]>=0.27.2->googletrans) (3.10)\n",
            "Requirement already satisfied: h11<0.15,>=0.13 in /usr/local/lib/python3.10/dist-packages (from httpcore==1.*->httpx>=0.27.2->httpx[http2]>=0.27.2->googletrans) (0.14.0)\n",
            "Collecting h2<5,>=3 (from httpx[http2]>=0.27.2->googletrans)\n",
            "  Downloading h2-4.1.0-py3-none-any.whl.metadata (3.6 kB)\n",
            "Collecting hyperframe<7,>=6.0 (from h2<5,>=3->httpx[http2]>=0.27.2->googletrans)\n",
            "  Downloading hyperframe-6.0.1-py3-none-any.whl.metadata (2.7 kB)\n",
            "Collecting hpack<5,>=4.0 (from h2<5,>=3->httpx[http2]>=0.27.2->googletrans)\n",
            "  Downloading hpack-4.0.0-py3-none-any.whl.metadata (2.5 kB)\n",
            "Requirement already satisfied: sniffio>=1.1 in /usr/local/lib/python3.10/dist-packages (from anyio->httpx>=0.27.2->httpx[http2]>=0.27.2->googletrans) (1.3.1)\n",
            "Requirement already satisfied: exceptiongroup in /usr/local/lib/python3.10/dist-packages (from anyio->httpx>=0.27.2->httpx[http2]>=0.27.2->googletrans) (1.2.2)\n",
            "Downloading googletrans-4.0.2-py3-none-any.whl (18 kB)\n",
            "Downloading h2-4.1.0-py3-none-any.whl (57 kB)\n",
            "\u001b[2K   \u001b[90m━━━━━━━━━━━━━━━━━━━━━━━━━━━━━━━━━━━━━━━━\u001b[0m \u001b[32m57.5/57.5 kB\u001b[0m \u001b[31m2.7 MB/s\u001b[0m eta \u001b[36m0:00:00\u001b[0m\n",
            "\u001b[?25hDownloading hpack-4.0.0-py3-none-any.whl (32 kB)\n",
            "Downloading hyperframe-6.0.1-py3-none-any.whl (12 kB)\n",
            "Installing collected packages: hyperframe, hpack, h2, googletrans\n",
            "Successfully installed googletrans-4.0.2 h2-4.1.0 hpack-4.0.0 hyperframe-6.0.1\n"
          ]
        }
      ],
      "source": [
        "pip install googletrans"
      ]
    },
    {
      "cell_type": "code",
      "execution_count": 15,
      "metadata": {
        "colab": {
          "base_uri": "https://localhost:8080/"
        },
        "id": "LrnlrjHSs3_i",
        "outputId": "e1d6574a-5a47-4c01-ce05-49de3f504646"
      },
      "outputs": [
        {
          "name": "stdout",
          "output_type": "stream",
          "text": [
            "Translated text: चङ्गा उडाउने: दशैंको समयमा तपाईंजस्ता केटाकेटीहरूले वर्षायाम सकियो र आकाश फेरि सफा भयो भनी देवताहरूलाई बताउन चङ्गा उडाउँछन्। टिका र जमरा: वृद्धहरूले परिवारका साना सदस्यहरूको निधारमा रातो टिका लगाई खुशी र आशीर्वाद दिन्छन्। सफल जीवन। टिका संरक्षण र प्रेमको जादुई चिन्ह जस्तै हो। यसको साथमा, तिनीहरूले हरियो जमरा (जौ घाँस) राख्छन्, जुन समृद्धिको प्रतीक हो। बाँसको झोलामा झुल्ने: गाउँ र सहरहरूले पिङ भनिने ठूला बाँसका झुलाहरू बनाउँछन्। केटाकेटीहरू आकाशमा उचाल्दै, हाँस्दै र स्वतन्त्र महसुस गर्दै, देवताहरूलाई धन्यवाद भन्नको लागि। ईस्टिङ: स्वादिष्ट खाना जस्तै चामल, मासु करी, र मिठाईहरू पकाइन्छ। परिवारहरू खाना बाँड्न, कथाहरू सुनाउन र रमाइलो गर्न वरपर भेला हुन्छन्। देवी दुर्गाको उपासना: देवी दुर्गाको सुन्दर मूर्तिहरू बनाइन्छ, र मानिसहरूले संसारलाई दुष्टबाट जोगाउनको लागि उहाँलाई धन्यवाद दिन फूल, फलहरू र प्रार्थनाहरू चढाउँछन्।\n"
          ]
        }
      ],
      "source": [
        "from googletrans import Translator\n",
        "\n",
        "# Initialize the translator\n",
        "translator = Translator()\n",
        "\n",
        "# Function to translate text\n",
        "async def translate_text():\n",
        "    # English text to be translated\n",
        "    english_text = \"Flying Kites: During Dashain, children like you fly kites to tell the gods that the rainy season is over and the skies are clear again.Tika and Jamara: Elders put red tika on the foreheads of younger family members and bless them for a happy and successful life. The tika is like a magical mark of protection and love. Along with it, they place green jamara (barley grass), which symbolizes prosperity.Swinging on Bamboo Swings: Villages and towns build big bamboo swings called ping. Children swing high into the sky, laughing and feeling free, as a way to say thank you to the gods.easting: Delicious food like rice, meat curries, and sweets are cooked. Families gather around to share meals, tell stories, and have fun.Worshipping the Goddess Durga: Beautiful statues of Goddess Durga are made, and people offer flowers, fruits, and prayers to thank her for protecting the world from evil.\"\n",
        "\n",
        "    # Translate to Nepali\n",
        "    translation = await translator.translate(english_text, src='en', dest='ne')\n",
        "\n",
        "    # Print the translated text\n",
        "    print(\"Translated text:\", translation.text)\n",
        "\n",
        "# Run the translation function using await\n",
        "await translate_text()"
      ]
    }
  ],
  "metadata": {
    "colab": {
      "provenance": []
    },
    "kernelspec": {
      "display_name": "Python 3",
      "name": "python3"
    },
    "language_info": {
      "name": "python"
    }
  },
  "nbformat": 4,
  "nbformat_minor": 0
}
